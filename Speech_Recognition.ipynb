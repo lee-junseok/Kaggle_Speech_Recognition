{
 "cells": [
  {
   "cell_type": "markdown",
   "metadata": {},
   "source": [
    "### https://www.kaggle.com/c/tensorflow-speech-recognition-challenge/overview"
   ]
  },
  {
   "cell_type": "markdown",
   "metadata": {},
   "source": [
    "Go to [Data Preparation](#dataprep)"
   ]
  },
  {
   "cell_type": "markdown",
   "metadata": {},
   "source": [
    "Go to [Modeling](#modeling)"
   ]
  },
  {
   "cell_type": "markdown",
   "metadata": {},
   "source": [
    "Go to [Evaluation](#evaluation)"
   ]
  },
  {
   "cell_type": "markdown",
   "metadata": {},
   "source": [
    "Go to [ref](#ref)"
   ]
  },
  {
   "cell_type": "markdown",
   "metadata": {},
   "source": [
    "# TensorFlow Speech Recognition Challenge"
   ]
  },
  {
   "cell_type": "code",
   "execution_count": 116,
   "metadata": {
    "_uuid": "6e7b6f6347f596f78b3a8fb88cb7a820541998b1"
   },
   "outputs": [
    {
     "name": "stderr",
     "output_type": "stream",
     "text": [
      "/Users/junseoklee/kaggle/IEEE-venv/lib/python3.7/importlib/_bootstrap.py:219: RuntimeWarning:\n",
      "\n",
      "numpy.ufunc size changed, may indicate binary incompatibility. Expected 192 from C header, got 216 from PyObject\n",
      "\n"
     ]
    }
   ],
   "source": [
    "#path\n",
    "import os\n",
    "from os.path import isdir, join\n",
    "from pathlib import Path\n",
    "\n",
    "# Scientific Math \n",
    "import numpy as np\n",
    "from scipy.fftpack import fft\n",
    "from scipy import signal\n",
    "from scipy.io import wavfile\n",
    "from sklearn.model_selection import train_test_split\n",
    "\n",
    "# Visualization\n",
    "import matplotlib.pyplot as plt\n",
    "import tensorflow as tf\n",
    "import plotly.offline as py\n",
    "import plotly.graph_objs as go\n",
    "\n",
    "from sklearn.metrics import confusion_matrix\n",
    "import seaborn as sns\n",
    "\n",
    "%matplotlib inline\n",
    "\n",
    "#Deep learning\n",
    "# import tensorflow.keras as keras\n",
    "# from tensorflow.keras.layers import Dense, Dropout, Flatten\n",
    "# from tensorflow.keras import Input, layers\n",
    "# from tensorflow.keras import backend as K\n",
    "\n",
    "from keras.utils.np_utils import to_categorical # convert to one-hot-encoding\n",
    "from keras.models import Sequential\n",
    "from keras.layers import Dense, Dropout, Flatten, Conv1D, MaxPool1D\n",
    "from keras.optimizers import RMSprop, Adam\n",
    "from keras.preprocessing.image import ImageDataGenerator\n",
    "from keras.callbacks import ReduceLROnPlateau\n",
    "\n",
    "from tqdm import tqdm\n",
    "import random\n",
    "import copy\n",
    "import librosa\n",
    "\n",
    "import warnings\n",
    "warnings.filterwarnings(action='once')\n"
   ]
  },
  {
   "cell_type": "code",
   "execution_count": null,
   "metadata": {},
   "outputs": [],
   "source": [
    "tqdm.pandas()"
   ]
  },
  {
   "cell_type": "code",
   "execution_count": 5,
   "metadata": {},
   "outputs": [],
   "source": [
    "tqdm._instances.clear()"
   ]
  },
  {
   "cell_type": "code",
   "execution_count": 5,
   "metadata": {
    "_uuid": "bb0bfbe942e8dc8e6bf4864b7ec66212734657bb"
   },
   "outputs": [
    {
     "name": "stdout",
     "output_type": "stream",
     "text": [
      "['validation_list.txt', 'LICENSE', 'README.md', 'audio', 'testing_list.txt']\n"
     ]
    }
   ],
   "source": [
    "print(os.listdir(\"./train\"))"
   ]
  },
  {
   "cell_type": "code",
   "execution_count": 2,
   "metadata": {
    "_uuid": "1979ce525c49d97564617560c48fe00e40707b17"
   },
   "outputs": [
    {
     "name": "stdout",
     "output_type": "stream",
     "text": [
      "['right', 'eight', 'cat', 'tree', 'bed', 'happy', 'go', '.DS_Store', 'dog', 'no', 'wow', 'nine', 'left', 'stop', 'three', '_background_noise_', 'sheila', 'one', 'bird', 'zero', 'seven', 'up', 'marvin', 'two', 'house', 'down', 'six', 'yes', 'on', 'five', 'off', 'four']\n"
     ]
    }
   ],
   "source": [
    "train_audio_path = './train/audio/'\n",
    "print(os.listdir(train_audio_path))"
   ]
  },
  {
   "cell_type": "code",
   "execution_count": 9,
   "metadata": {},
   "outputs": [
    {
     "data": {
      "text/plain": [
       "31"
      ]
     },
     "execution_count": 9,
     "metadata": {},
     "output_type": "execute_result"
    }
   ],
   "source": [
    "len(os.listdir(train_audio_path))"
   ]
  },
  {
   "cell_type": "markdown",
   "metadata": {},
   "source": [
    "<a id='dataprep'/>"
   ]
  },
  {
   "cell_type": "markdown",
   "metadata": {
    "_uuid": "bc717705d62e8a2a312a983f59ab0406c0e0329b"
   },
   "source": [
    "# Data Preparation\n",
    "\n",
    "- target list in the test set is ['yes', 'no', 'up', 'down', 'left', 'right', 'on', 'off', 'stop', 'go']\n",
    "\n",
    "- others go to an unknown list\n",
    "\n",
    "- silence will be made from '_background_noise_'\n",
    "\n",
    "- Train data's sampling rate is 16000Hz, but for making lower computation cost, Resample to 8000hz\n",
    "\n",
    "- After training, test set also will resample to 8000Hz"
   ]
  },
  {
   "cell_type": "code",
   "execution_count": 3,
   "metadata": {
    "_uuid": "baf56ce3fd56eb7c6dd4b5d088105a631654071e"
   },
   "outputs": [
    {
     "name": "stdout",
     "output_type": "stream",
     "text": [
      "Number of labels: 30\n",
      "['_background_noise_', 'bed', 'bird', 'cat', 'dog', 'down', 'eight', 'five', 'four', 'go', 'happy', 'house', 'left', 'marvin', 'nine', 'no', 'off', 'on', 'one', 'right', 'seven', 'sheila', 'six', 'stop', 'three', 'tree', 'two', 'up', 'wow', 'yes', 'zero']\n"
     ]
    }
   ],
   "source": [
    "dirs = [f for f in os.listdir(train_audio_path) if isdir(join(train_audio_path, f))]\n",
    "dirs.sort()\n",
    "print('Number of labels: ' + str(len(dirs[1:])))\n",
    "print(dirs)"
   ]
  },
  {
   "cell_type": "code",
   "execution_count": 6,
   "metadata": {
    "_uuid": "cdeb5698a33395d714bd7ec249f25a668734bc7d",
    "scrolled": true
   },
   "outputs": [
    {
     "name": "stdout",
     "output_type": "stream",
     "text": [
      "target_list : ['yes', 'no', 'up', 'down', 'left', 'right', 'on', 'off', 'stop', 'go']\n",
      "unknowns_list : ['bed', 'bird', 'cat', 'dog', 'eight', 'five', 'four', 'happy', 'house', 'marvin', 'nine', 'one', 'seven', 'sheila', 'six', 'three', 'tree', 'two', 'wow', 'zero']\n",
      "silence : _background_noise_\n",
      "1:bed 2:bird 3:cat 4:dog 5:down 6:eight 7:five 8:four 9:go 10:happy 11:house 12:left 13:marvin 14:nine 15:no 16:off 17:on 18:one 19:right 20:seven 21:sheila 22:six 23:stop 24:three 25:tree 26:two 27:up 28:wow 29:yes 30:zero "
     ]
    }
   ],
   "source": [
    "target_wav = []\n",
    "unknown_wav = []\n",
    "labels = []\n",
    "label_value = {}\n",
    "target_list = ['yes', 'no', 'up', 'down', 'left', 'right', 'on', 'off', 'stop', 'go']\n",
    "unknown_list = [d for d in dirs if d not in target_list and d != '_background_noise_' ]\n",
    "print('target_list : ',end='')\n",
    "print(target_list)\n",
    "print('unknowns_list : ', end='')\n",
    "print(unknown_list)\n",
    "print('silence : _background_noise_')\n",
    "i=0;\n",
    "background = [f for f in os.listdir(join(train_audio_path, '_background_noise_')) if f.endswith('.wav')]\n",
    "background_noise = []\n",
    "for wav in background : \n",
    "    samples, sample_rate = librosa.load(join(join(train_audio_path,'_background_noise_'),wav))\n",
    "    samples = librosa.resample(samples, sample_rate, 8000)\n",
    "    background_noise.append(samples)\n",
    "\n",
    "for direct in dirs[1:]:\n",
    "    waves = [f for f in os.listdir(join(train_audio_path, direct)) if f.endswith('.wav')]\n",
    "    label_value[direct] = i\n",
    "    i += 1\n",
    "    print(str(i)+\":\" +str(direct) + \" \", end=\"\")\n",
    "    for wav in waves:\n",
    "        samples, sample_rate = librosa.load(join(join(train_audio_path,direct),wav), sr = 16000)\n",
    "        samples = librosa.resample(samples, sample_rate, 8000)\n",
    "        if len(samples) != 8000 : \n",
    "            continue\n",
    "            \n",
    "        if direct in unknown_list:\n",
    "            unknown_wav.append(samples)\n",
    "        else:\n",
    "            labels.append(direct)\n",
    "            target_wav.append(samples)"
   ]
  },
  {
   "cell_type": "markdown",
   "metadata": {
    "_uuid": "e9efa60ca094eeae08d34e078d4ec62231e50054"
   },
   "source": [
    "split wav, label"
   ]
  },
  {
   "cell_type": "code",
   "execution_count": 8,
   "metadata": {},
   "outputs": [
    {
     "data": {
      "text/plain": [
       "21312"
      ]
     },
     "execution_count": 8,
     "metadata": {},
     "output_type": "execute_result"
    }
   ],
   "source": [
    "len(target_wav)"
   ]
  },
  {
   "cell_type": "code",
   "execution_count": 10,
   "metadata": {},
   "outputs": [
    {
     "data": {
      "text/plain": [
       "36940"
      ]
     },
     "execution_count": 10,
     "metadata": {},
     "output_type": "execute_result"
    }
   ],
   "source": [
    "len(unknown_wav)"
   ]
  },
  {
   "cell_type": "code",
   "execution_count": 33,
   "metadata": {
    "_uuid": "8501a2e50843829e3a51853c683f105b040e954f"
   },
   "outputs": [],
   "source": [
    "# wav_all = np.reshape(np.delete(all_wav,1,1),(len(all_wav)))\n",
    "wav_all = np.array(all_wav)[:,0]\n",
    "# label_all = [i for i in np.array(all_wav)[:,1]]\n",
    "label_all = [i for i in np.delete(all_wav,0,1).tolist()]"
   ]
  },
  {
   "cell_type": "markdown",
   "metadata": {
    "_uuid": "a3239651e24e6decb63e5c5c9221650357d684c2"
   },
   "source": [
    "### Data Augmentation\n",
    "\n",
    "mix train wav, and same length(1 sec) noise(10%) from '_background_noise_'\n"
   ]
  },
  {
   "cell_type": "code",
   "execution_count": 19,
   "metadata": {
    "_uuid": "b59088b2bb5dc1848246dd4320d134ac0c673e65"
   },
   "outputs": [],
   "source": [
    "#Random pick start point\n",
    "def get_one_noise(noise_num = 0):\n",
    "    selected_noise = background_noise[noise_num]\n",
    "    start_idx = random.randint(0, len(selected_noise)- 1 - 8000) #8000Hz for 1 sec\n",
    "    return selected_noise[start_idx:(start_idx + 8000)]"
   ]
  },
  {
   "cell_type": "code",
   "execution_count": 20,
   "metadata": {
    "_uuid": "073bc68512dc809aff793dc03dc380d570631457"
   },
   "outputs": [],
   "source": [
    "noise_ratio = 0.1\n",
    "noised_wav = []\n",
    "n_augment = 1\n",
    "for i in range(n_augment):\n",
    "    new_wav = []\n",
    "    noise = get_one_noise(i)\n",
    "    for s in target_wav:\n",
    "        ss = s + (noise_ratio * noise)\n",
    "        noised_wav.append(ss)"
   ]
  },
  {
   "cell_type": "code",
   "execution_count": 47,
   "metadata": {
    "_uuid": "6bd94ec47be96cba4be12c60b91ed90044aedea0"
   },
   "outputs": [
    {
     "data": {
      "text/plain": [
       "(21312, 8000)"
      ]
     },
     "execution_count": 47,
     "metadata": {},
     "output_type": "execute_result"
    }
   ],
   "source": [
    "# wav_vals = np.array([x for x in wav_all])\n",
    "# label_vals = [x for x in label_all]\n",
    "# wav_vals.shape"
   ]
  },
  {
   "cell_type": "code",
   "execution_count": 22,
   "metadata": {
    "_uuid": "94ef3d33c62e27cb1fb53a29025c010ec56ffbb4"
   },
   "outputs": [],
   "source": [
    "labels_cp = copy.deepcopy(labels)\n",
    "for _ in range(n_augment):\n",
    "    labels = np.concatenate((labels, labels_cp), axis = 0)\n",
    "labels = labels.reshape(-1,1)"
   ]
  },
  {
   "cell_type": "code",
   "execution_count": 23,
   "metadata": {},
   "outputs": [
    {
     "data": {
      "text/plain": [
       "(42624, 1)"
      ]
     },
     "execution_count": 23,
     "metadata": {},
     "output_type": "execute_result"
    }
   ],
   "source": [
    "labels.shape"
   ]
  },
  {
   "cell_type": "markdown",
   "metadata": {
    "_uuid": "e20c12d950b7ff2e8904fc57d5a9d429cd4b130d"
   },
   "source": [
    "Random sampling from unknown wav data\n"
   ]
  },
  {
   "cell_type": "code",
   "execution_count": 25,
   "metadata": {
    "_uuid": "5ee0b02d7cfbcc02ea20d65ee268ba44e01bf2b1"
   },
   "outputs": [],
   "source": [
    "#add unknown audio wavs by random sampling\n",
    "np.random.shuffle(unknown_wav)\n",
    "unknown_wav = np.array(unknown_wav)\n",
    "unknown_wav = unknown_wav[:2000*(n_augment+1)]\n",
    "unknown_label = np.array(['unknown' for _ in range(2000*(n_augment+1))])\n",
    "unknown_label = unknown_label.reshape(2000*(n_augment+1),1)"
   ]
  },
  {
   "cell_type": "markdown",
   "metadata": {
    "_uuid": "72a6f2c8663ee74708da42313ed2e8d24c832b3f"
   },
   "source": [
    "May Some wav data has different length. So, Delete it"
   ]
  },
  {
   "cell_type": "code",
   "execution_count": 63,
   "metadata": {
    "_uuid": "70a499bce28fd081b7fa9742eb03851ebe4eb5f1"
   },
   "outputs": [],
   "source": [
    "delete_index = []\n",
    "for i,w in enumerate(unknown):\n",
    "    if len(w) != 8000:\n",
    "        delete_index.append(i)\n",
    "        print(f\"delete {w}\")\n",
    "unknown = np.delete(unknown, delete_index, axis=0)"
   ]
  },
  {
   "cell_type": "markdown",
   "metadata": {
    "_uuid": "6a1f8bf0426f373ed063df7f1adbd963943a3fd0"
   },
   "source": [
    "Random sampling from '_background_noise_' \n",
    "\n",
    "Random pick background noise \n"
   ]
  },
  {
   "cell_type": "code",
   "execution_count": 28,
   "metadata": {
    "_uuid": "7ef23bb8580b70f2b52e2d91fb183674112d2eba"
   },
   "outputs": [
    {
     "data": {
      "text/plain": [
       "(3996, 8000)"
      ]
     },
     "execution_count": 28,
     "metadata": {},
     "output_type": "execute_result"
    }
   ],
   "source": [
    "#silence audio\n",
    "silence_wav = []\n",
    "num_wav = (2000*(n_augment+1))//len(background_noise)\n",
    "for i, _ in enumerate(background_noise):\n",
    "    for _ in range(num_wav):\n",
    "        silence_wav.append(get_one_noise(i))\n",
    "silence_wav = np.array(silence_wav)\n",
    "silence_label = np.array(['silence' for _ in range(num_wav*len(background_noise))])\n",
    "silence_label = silence_label.reshape(-1,1)\n",
    "silence_wav.shape"
   ]
  },
  {
   "cell_type": "code",
   "execution_count": 31,
   "metadata": {
    "_uuid": "c06ab04ada253e19a0207d280ed3c1a444776cd3"
   },
   "outputs": [],
   "source": [
    "target_wav    = np.reshape(target_wav,    (-1, 8000))\n",
    "noised_wav  = np.reshape(noised_wav,  (-1, 8000))\n",
    "unknown_wav       = np.reshape(unknown_wav,   (-1, 8000))\n",
    "silence_wav = np.reshape(silence_wav, (-1, 8000))"
   ]
  },
  {
   "cell_type": "markdown",
   "metadata": {
    "_uuid": "4e1666c5bf721dbf9e4717be0d469734db9182f2"
   },
   "source": [
    "Check Dimensions"
   ]
  },
  {
   "cell_type": "code",
   "execution_count": 32,
   "metadata": {
    "_uuid": "841b9a9b2a2c38297a7a6d1c93744965755703fa"
   },
   "outputs": [
    {
     "name": "stdout",
     "output_type": "stream",
     "text": [
      "(21312, 8000)\n",
      "(21312, 8000)\n",
      "(4000, 8000)\n",
      "(3996, 8000)\n"
     ]
    }
   ],
   "source": [
    "print(target_wav.shape)\n",
    "print(noised_wav.shape)\n",
    "print(unknown_wav.shape)\n",
    "print(silence_wav.shape)"
   ]
  },
  {
   "cell_type": "code",
   "execution_count": 34,
   "metadata": {
    "_uuid": "ab1aba8c05398669f6e3152d74e00e8a41ee7503"
   },
   "outputs": [
    {
     "name": "stdout",
     "output_type": "stream",
     "text": [
      "(42624, 1)\n",
      "(4000, 1)\n",
      "(3996, 1)\n"
     ]
    }
   ],
   "source": [
    "print(labels.shape)\n",
    "print(unknown_label.shape)\n",
    "print(silence_label.shape)"
   ]
  },
  {
   "cell_type": "markdown",
   "metadata": {
    "_uuid": "c6816376d4450daffeb79114df92d3fb0eafb59a"
   },
   "source": [
    "Concatenate wavs, labels "
   ]
  },
  {
   "cell_type": "code",
   "execution_count": 39,
   "metadata": {
    "_uuid": "7d6afa30a5dda2b9ca4888b36aabe5b89922a121"
   },
   "outputs": [],
   "source": [
    "wavs = np.concatenate((target_wav, noised_wav, unknown_wav, silence_wav), axis = 0)"
   ]
  },
  {
   "cell_type": "code",
   "execution_count": 38,
   "metadata": {},
   "outputs": [],
   "source": [
    "target_label = copy.deepcopy(labels)"
   ]
  },
  {
   "cell_type": "code",
   "execution_count": 40,
   "metadata": {
    "_uuid": "420f9d709f805349b2635a80dabc383595eac011"
   },
   "outputs": [],
   "source": [
    "labels = np.concatenate((target_label, unknown_label,silence_label), axis = 0)"
   ]
  },
  {
   "cell_type": "code",
   "execution_count": 42,
   "metadata": {
    "_uuid": "0c33c9dc3fe0daa57968e89fa6c22352a8b53f55"
   },
   "outputs": [
    {
     "name": "stdout",
     "output_type": "stream",
     "text": [
      "50620\n",
      "50620\n"
     ]
    }
   ],
   "source": [
    "print(len(wavs))\n",
    "print(len(labels))"
   ]
  },
  {
   "cell_type": "markdown",
   "metadata": {
    "_uuid": "63c2da5df2edd06ab1fbdf6c1a50ad02216f0fe5"
   },
   "source": [
    "### Prepare Train"
   ]
  },
  {
   "cell_type": "code",
   "execution_count": 43,
   "metadata": {
    "_uuid": "ba0ab85ffd216b4d91855ea234b3202ba250b8be"
   },
   "outputs": [],
   "source": [
    "train_wav, test_wav, train_label, test_label = train_test_split(wavs, labels, \n",
    "                                                                    test_size=0.2,\n",
    "                                                                   shuffle=True)"
   ]
  },
  {
   "cell_type": "code",
   "execution_count": 44,
   "metadata": {
    "_uuid": "9e6a9e72fbee7fd3bf612e60d5709b177deacaec"
   },
   "outputs": [],
   "source": [
    "# Parameters\n",
    "lr = 0.001\n",
    "generations = 20000\n",
    "num_gens_to_wait = 250\n",
    "batch_size = 512\n",
    "drop_out_rate = 0.5\n",
    "input_shape = (8000,1)"
   ]
  },
  {
   "cell_type": "code",
   "execution_count": 45,
   "metadata": {
    "_uuid": "73ffc6cf54f2100c1aa47203f0c33e350198dc3d"
   },
   "outputs": [],
   "source": [
    "#For Conv1D add Channel\n",
    "train_wav = train_wav.reshape(-1,8000,1)\n",
    "test_wav = test_wav.reshape(-1,8000,1)"
   ]
  },
  {
   "cell_type": "code",
   "execution_count": 46,
   "metadata": {
    "_uuid": "75fd1a40241009a857b5db9c878c9c665bdc84f2"
   },
   "outputs": [],
   "source": [
    "label_value = target_list\n",
    "label_value.append('unknown')\n",
    "label_value.append('silence')"
   ]
  },
  {
   "cell_type": "code",
   "execution_count": 49,
   "metadata": {
    "_uuid": "cb801f97812407f60af16a787a0ae01db8e88038"
   },
   "outputs": [],
   "source": [
    "new_label_value = dict()\n",
    "for i, l in enumerate(label_value):\n",
    "    new_label_value[l] = i\n",
    "label_value = new_label_value"
   ]
  },
  {
   "cell_type": "code",
   "execution_count": 71,
   "metadata": {
    "_uuid": "65647981d409fb31ac391af3d5d091ef354a0f02"
   },
   "outputs": [],
   "source": [
    "#Make Label data 'string' -> 'class num'\n",
    "train_label = np.vectorize(lambda x:label_value[x])(train_label)\n",
    "\n",
    "test_label = np.vectorize(lambda x:label_value[x])(test_label)\n",
    "\n",
    "#Make Label data 'class num' -> 'One hot vector'\n",
    "train_label = to_categorical(train_label, len(label_value))\n",
    "test_label = to_categorical(test_label, len(label_value))"
   ]
  },
  {
   "cell_type": "code",
   "execution_count": 72,
   "metadata": {
    "_uuid": "96b340a033294465394c168e232df012a011ae1a"
   },
   "outputs": [
    {
     "name": "stdout",
     "output_type": "stream",
     "text": [
      "Train_Wav Demension : (40496, 8000, 1)\n"
     ]
    }
   ],
   "source": [
    "print('Train_Wav Demension : ' + str(np.shape(train_wav)))"
   ]
  },
  {
   "cell_type": "code",
   "execution_count": 73,
   "metadata": {
    "_uuid": "994265f130050666438cd7a14357ef766b279495",
    "scrolled": true
   },
   "outputs": [
    {
     "name": "stdout",
     "output_type": "stream",
     "text": [
      "Train_Label Demension : (40496, 12)\n"
     ]
    }
   ],
   "source": [
    "print('Train_Label Demension : ' + str(np.shape(train_label)))"
   ]
  },
  {
   "cell_type": "code",
   "execution_count": 74,
   "metadata": {
    "_uuid": "edf649f1ec18a201a7a2b2bf9c5115e443fe6b03"
   },
   "outputs": [
    {
     "name": "stdout",
     "output_type": "stream",
     "text": [
      "Test_Wav Demension : (10124, 8000, 1)\n"
     ]
    }
   ],
   "source": [
    "print('Test_Wav Demension : ' + str(np.shape(test_wav)))"
   ]
  },
  {
   "cell_type": "code",
   "execution_count": 75,
   "metadata": {
    "_uuid": "c3bf3f485f3b3f4e44f25ce4ec35861a7b22f866"
   },
   "outputs": [
    {
     "name": "stdout",
     "output_type": "stream",
     "text": [
      "Test_Label Demension : (10124, 12)\n"
     ]
    }
   ],
   "source": [
    "print('Test_Label Demension : ' + str(np.shape(test_label)))"
   ]
  },
  {
   "cell_type": "code",
   "execution_count": 76,
   "metadata": {
    "_uuid": "557d3f766acfe47197813f0301d0b562cf3388be"
   },
   "outputs": [
    {
     "name": "stdout",
     "output_type": "stream",
     "text": [
      "Number Of Labels : 12\n"
     ]
    }
   ],
   "source": [
    "print('Number Of Labels : ' + str(len(label_value)))"
   ]
  },
  {
   "cell_type": "markdown",
   "metadata": {},
   "source": [
    "<a id='modeling'/>"
   ]
  },
  {
   "cell_type": "markdown",
   "metadata": {},
   "source": [
    "# Modeling"
   ]
  },
  {
   "cell_type": "code",
   "execution_count": 94,
   "metadata": {},
   "outputs": [],
   "source": [
    "#[[Conv1D->relu]*2 -> MaxPool1D -> Dropout]*2 -> Flatten -> Dense -> Dropout -> Out\n",
    "\n",
    "model = Sequential()\n",
    "\n",
    "model.add(Conv1D(filters = 32, kernel_size = 5,padding = 'Same', \n",
    "                 activation ='relu', input_shape = input_shape)) #filters = # of filters, kernel_size = filter size\n",
    "model.add(Conv1D(filters = 32, kernel_size = 5,padding = 'Same', \n",
    "                 activation ='relu'))\n",
    "model.add(MaxPool1D(pool_size=2))\n",
    "model.add(Dropout(0.25))\n",
    "\n",
    "\n",
    "model.add(Conv1D(filters = 64, kernel_size = 3,padding = 'Same', \n",
    "                 activation ='relu'))\n",
    "model.add(Conv1D(filters = 64, kernel_size = 3,padding = 'Same', \n",
    "                 activation ='relu'))\n",
    "model.add(MaxPool1D(pool_size=2, strides=2))\n",
    "model.add(Dropout(0.25))\n",
    "\n",
    "#fully connected\n",
    "model.add(Flatten())\n",
    "model.add(Dense(256, activation = \"relu\"))\n",
    "model.add(Dropout(0.5))\n",
    "model.add(Dense(12, activation = \"softmax\"))"
   ]
  },
  {
   "cell_type": "markdown",
   "metadata": {},
   "source": [
    "- ### Adam Optimizer - no need annealer"
   ]
  },
  {
   "cell_type": "code",
   "execution_count": 95,
   "metadata": {},
   "outputs": [],
   "source": [
    "optimizer = Adam(lr=0.001,beta_1=0.9,beta_2=0.999)"
   ]
  },
  {
   "cell_type": "code",
   "execution_count": 96,
   "metadata": {},
   "outputs": [],
   "source": [
    "model.compile(optimizer = optimizer , loss = \"categorical_crossentropy\", metrics=[\"accuracy\"])"
   ]
  },
  {
   "cell_type": "code",
   "execution_count": 97,
   "metadata": {},
   "outputs": [
    {
     "name": "stdout",
     "output_type": "stream",
     "text": [
      "Model: \"sequential_4\"\n",
      "_________________________________________________________________\n",
      "Layer (type)                 Output Shape              Param #   \n",
      "=================================================================\n",
      "conv1d_6 (Conv1D)            (None, 8000, 32)          192       \n",
      "_________________________________________________________________\n",
      "conv1d_7 (Conv1D)            (None, 8000, 32)          5152      \n",
      "_________________________________________________________________\n",
      "max_pooling1d_3 (MaxPooling1 (None, 4000, 32)          0         \n",
      "_________________________________________________________________\n",
      "dropout_4 (Dropout)          (None, 4000, 32)          0         \n",
      "_________________________________________________________________\n",
      "conv1d_8 (Conv1D)            (None, 4000, 64)          6208      \n",
      "_________________________________________________________________\n",
      "conv1d_9 (Conv1D)            (None, 4000, 64)          12352     \n",
      "_________________________________________________________________\n",
      "max_pooling1d_4 (MaxPooling1 (None, 2000, 64)          0         \n",
      "_________________________________________________________________\n",
      "dropout_5 (Dropout)          (None, 2000, 64)          0         \n",
      "_________________________________________________________________\n",
      "flatten_2 (Flatten)          (None, 128000)            0         \n",
      "_________________________________________________________________\n",
      "dense_3 (Dense)              (None, 256)               32768256  \n",
      "_________________________________________________________________\n",
      "dropout_6 (Dropout)          (None, 256)               0         \n",
      "_________________________________________________________________\n",
      "dense_4 (Dense)              (None, 12)                3084      \n",
      "=================================================================\n",
      "Total params: 32,795,244\n",
      "Trainable params: 32,795,244\n",
      "Non-trainable params: 0\n",
      "_________________________________________________________________\n"
     ]
    }
   ],
   "source": [
    "model.summary()"
   ]
  },
  {
   "cell_type": "code",
   "execution_count": null,
   "metadata": {},
   "outputs": [],
   "source": [
    "# history = model.fit_generator(datagen.flow(trainX,trainY,batch_size=batch_size),\n",
    "#                              epochs=10,validation_data=(valX,valY),\n",
    "#                               verbose = 1, steps_per_epoch=trainX.shape[0]//batch_size)"
   ]
  },
  {
   "cell_type": "code",
   "execution_count": 100,
   "metadata": {},
   "outputs": [
    {
     "name": "stdout",
     "output_type": "stream",
     "text": [
      "Train on 40496 samples, validate on 10124 samples\n",
      "Epoch 1/2\n",
      "40496/40496 [==============================] - 624s 15ms/step - loss: 2.2452 - accuracy: 0.1978 - val_loss: 1.9923 - val_accuracy: 0.2899\n",
      "Epoch 2/2\n",
      "40496/40496 [==============================] - 591s 15ms/step - loss: 1.8279 - accuracy: 0.3602 - val_loss: 1.5538 - val_accuracy: 0.4855\n"
     ]
    }
   ],
   "source": [
    "history = model.fit(train_wav, train_label, validation_data=(test_wav, test_label),\n",
    "          batch_size=batch_size, \n",
    "          epochs=2,\n",
    "          verbose=1)"
   ]
  },
  {
   "cell_type": "markdown",
   "metadata": {},
   "source": [
    "<a id='evaluation' />"
   ]
  },
  {
   "cell_type": "code",
   "execution_count": 101,
   "metadata": {},
   "outputs": [
    {
     "name": "stdout",
     "output_type": "stream",
     "text": [
      "Train on 40496 samples, validate on 10124 samples\n",
      "Epoch 1/8\n",
      "40496/40496 [==============================] - 577s 14ms/step - loss: 1.4665 - accuracy: 0.4912 - val_loss: 1.2601 - val_accuracy: 0.5852\n",
      "Epoch 2/8\n",
      "40496/40496 [==============================] - 598s 15ms/step - loss: 1.1827 - accuracy: 0.5937 - val_loss: 1.0854 - val_accuracy: 0.6482\n",
      "Epoch 3/8\n",
      "40496/40496 [==============================] - 615s 15ms/step - loss: 0.9582 - accuracy: 0.6737 - val_loss: 0.9150 - val_accuracy: 0.7093\n",
      "Epoch 4/8\n",
      "40496/40496 [==============================] - 594s 15ms/step - loss: 0.7802 - accuracy: 0.7305 - val_loss: 0.8195 - val_accuracy: 0.7405\n",
      "Epoch 5/8\n",
      "40496/40496 [==============================] - 586s 14ms/step - loss: 0.6559 - accuracy: 0.7744 - val_loss: 0.7747 - val_accuracy: 0.7579\n",
      "Epoch 6/8\n",
      "40496/40496 [==============================] - 586s 14ms/step - loss: 0.5817 - accuracy: 0.8030 - val_loss: 0.7900 - val_accuracy: 0.7631\n",
      "Epoch 7/8\n",
      "40496/40496 [==============================] - 586s 14ms/step - loss: 0.4974 - accuracy: 0.8333 - val_loss: 0.9268 - val_accuracy: 0.7486\n",
      "Epoch 8/8\n",
      "40496/40496 [==============================] - 587s 15ms/step - loss: 0.4513 - accuracy: 0.8490 - val_loss: 0.6967 - val_accuracy: 0.8050\n"
     ]
    }
   ],
   "source": [
    "history = model.fit(train_wav, train_label, validation_data=(test_wav, test_label),\n",
    "          batch_size=batch_size, \n",
    "          epochs=8,\n",
    "          verbose=1)"
   ]
  },
  {
   "cell_type": "code",
   "execution_count": 102,
   "metadata": {},
   "outputs": [
    {
     "name": "stdout",
     "output_type": "stream",
     "text": [
      "Train on 40496 samples, validate on 10124 samples\n",
      "Epoch 1/5\n",
      "40496/40496 [==============================] - 583s 14ms/step - loss: 0.3979 - accuracy: 0.8668 - val_loss: 0.7290 - val_accuracy: 0.7990\n",
      "Epoch 2/5\n",
      "40496/40496 [==============================] - 584s 14ms/step - loss: 0.3553 - accuracy: 0.8829 - val_loss: 0.7141 - val_accuracy: 0.8068\n",
      "Epoch 3/5\n",
      "40496/40496 [==============================] - 603s 15ms/step - loss: 0.3256 - accuracy: 0.8916 - val_loss: 0.7139 - val_accuracy: 0.8179\n",
      "Epoch 4/5\n",
      "40496/40496 [==============================] - 584s 14ms/step - loss: 0.3026 - accuracy: 0.8990 - val_loss: 0.7324 - val_accuracy: 0.8226\n",
      "Epoch 5/5\n",
      "40496/40496 [==============================] - 583s 14ms/step - loss: 0.2866 - accuracy: 0.9071 - val_loss: 0.7263 - val_accuracy: 0.8239\n"
     ]
    }
   ],
   "source": [
    "history = model.fit(train_wav, train_label, validation_data=(test_wav, test_label),\n",
    "          batch_size=batch_size, \n",
    "          epochs=5,\n",
    "          verbose=1)"
   ]
  },
  {
   "cell_type": "code",
   "execution_count": 103,
   "metadata": {},
   "outputs": [
    {
     "name": "stdout",
     "output_type": "stream",
     "text": [
      "Train on 40496 samples, validate on 10124 samples\n",
      "Epoch 1/10\n",
      "40496/40496 [==============================] - 599s 15ms/step - loss: 0.2596 - accuracy: 0.9142 - val_loss: 0.7354 - val_accuracy: 0.8340\n",
      "Epoch 2/10\n",
      "40496/40496 [==============================] - 626s 15ms/step - loss: 0.2457 - accuracy: 0.9187 - val_loss: 0.7859 - val_accuracy: 0.8235\n",
      "Epoch 3/10\n",
      "40496/40496 [==============================] - 594s 15ms/step - loss: 0.2460 - accuracy: 0.9192 - val_loss: 0.7776 - val_accuracy: 0.8274\n",
      "Epoch 4/10\n",
      "40496/40496 [==============================] - 581s 14ms/step - loss: 0.2309 - accuracy: 0.9230 - val_loss: 0.8027 - val_accuracy: 0.8264\n",
      "Epoch 5/10\n",
      "40496/40496 [==============================] - 586s 14ms/step - loss: 0.2205 - accuracy: 0.9275 - val_loss: 0.7732 - val_accuracy: 0.8341\n",
      "Epoch 6/10\n",
      "40496/40496 [==============================] - 634s 16ms/step - loss: 0.2079 - accuracy: 0.9325 - val_loss: 0.8123 - val_accuracy: 0.8298\n",
      "Epoch 7/10\n",
      "40496/40496 [==============================] - 617s 15ms/step - loss: 0.1903 - accuracy: 0.9376 - val_loss: 0.8326 - val_accuracy: 0.8326\n",
      "Epoch 8/10\n",
      "40496/40496 [==============================] - 628s 16ms/step - loss: 0.1917 - accuracy: 0.9372 - val_loss: 0.8037 - val_accuracy: 0.8328\n",
      "Epoch 9/10\n",
      "40496/40496 [==============================] - 623s 15ms/step - loss: 0.1798 - accuracy: 0.9411 - val_loss: 0.8044 - val_accuracy: 0.8394\n",
      "Epoch 10/10\n",
      "40496/40496 [==============================] - 617s 15ms/step - loss: 0.1832 - accuracy: 0.9395 - val_loss: 0.7767 - val_accuracy: 0.8375\n"
     ]
    }
   ],
   "source": [
    "history = model.fit(train_wav, train_label, validation_data=(test_wav, test_label),\n",
    "          batch_size=batch_size, \n",
    "          epochs=10,\n",
    "          verbose=1)"
   ]
  },
  {
   "cell_type": "markdown",
   "metadata": {},
   "source": [
    "# Evaluation"
   ]
  },
  {
   "cell_type": "code",
   "execution_count": 104,
   "metadata": {},
   "outputs": [
    {
     "data": {
      "image/png": "[encoded data removed]",
      "text/plain": [
       "<Figure size 1008x576 with 2 Axes>"
      ]
     },
     "metadata": {
      "needs_background": "light"
     },
     "output_type": "display_data"
    }
   ],
   "source": [
    "# Plot the loss and accuracy curves for training and validation\n",
    "fig, ax = plt.subplots(2,1,figsize = (14,8))\n",
    "ax[0].plot(history.history['loss'], color='b', label=\"Training loss\")\n",
    "ax[0].plot(history.history['val_loss'], color='r', label=\"validation loss\",axes =ax[0])\n",
    "legend = ax[0].legend(loc='best', shadow=True)\n",
    "\n",
    "ax[1].plot(history.history['accuracy'], color='b', label=\"Training accuracy\")\n",
    "ax[1].plot(history.history['val_accuracy'], color='r',label=\"Validation accuracy\")\n",
    "legend = ax[1].legend(loc='best', shadow=True)"
   ]
  },
  {
   "cell_type": "code",
   "execution_count": 107,
   "metadata": {},
   "outputs": [
    {
     "name": "stdout",
     "output_type": "stream",
     "text": [
      "25 25 25 25\n"
     ]
    }
   ],
   "source": [
    "loss_history = [2.2452,1.8279,1.4665,1.1827,0.9582,0.7802,0.6559,0.5817,0.4974,0.4513,0.3979,0.3553,0.3256,0.3026,0.2866]\\\n",
    "            +history.history['loss']\n",
    "val_loss_history = [1.9923,1.5538,1.2601,1.0854,0.9150,0.8195,0.7747,0.7900,0.9268,0.6967,0.7290,0.7141,0.7139,0.7324,0.7324]\\\n",
    "            +history.history['val_loss']\n",
    "acc_history = [0.1978,0.3602,0.4912,0.5937,0.6737,0.7305,0.7744,0.8030,0.8333,0.8490,0.8668,0.8829,0.8916,0.8990,0.9071]\\\n",
    "            +history.history['accuracy']\n",
    "val_acc_history = [0.2899,0.4855,0.5852,0.6482,0.7093,0.7405,0.7579,0.7631,0.7486,0.8050,0.7990,0.8068,0.8179,0.8226,0.8239]\\\n",
    "            +history.history['val_accuracy']\n",
    "print(len(loss_history),len(val_loss_history),len(acc_history),len(val_acc_history))"
   ]
  },
  {
   "cell_type": "code",
   "execution_count": 135,
   "metadata": {},
   "outputs": [
    {
     "data": {
      "image/png": "[encoded data removed]",
      "text/plain": [
       "<Figure size 1008x576 with 2 Axes>"
      ]
     },
     "metadata": {
      "needs_background": "light"
     },
     "output_type": "display_data"
    }
   ],
   "source": [
    "\n",
    "# Plot the loss and accuracy curves for training and validation\n",
    "fig, ax = plt.subplots(2,1,figsize = (14,8))\n",
    "ax[0].plot(loss_history, color='b', label=\"Training loss\")\n",
    "ax[0].plot(val_loss_history, color='r', label=\"validation loss\",axes =ax[0])\n",
    "legend = ax[0].legend(loc='best', shadow=True)\n",
    "ax[0].set_title('model loss')\n",
    "ax[0].set_ylabel('loss')\n",
    "ax[0].set_xlabel('epoch')\n",
    "\n",
    "ax[1].plot(acc_history, color='b', label=\"Training accuracy\")\n",
    "ax[1].plot(val_acc_history, color='r',label=\"Validation accuracy\")\n",
    "legend = ax[1].legend(loc='best', shadow=True)\n",
    "ax[1].set_title('model accuracy')\n",
    "ax[1].set_ylabel('accuracy')\n",
    "ax[1].set_xlabel('epoch')\n",
    "\n",
    "plt.subplots_adjust(hspace = 0.4)\n",
    "plt.show()"
   ]
  },
  {
   "cell_type": "code",
   "execution_count": 117,
   "metadata": {},
   "outputs": [
    {
     "data": {
      "image/png": "[encoded data removed]",
      "text/plain": [
       "<Figure size 720x648 with 2 Axes>"
      ]
     },
     "metadata": {
      "needs_background": "light"
     },
     "output_type": "display_data"
    }
   ],
   "source": [
    "# confusion matrix\n",
    "# Predict the values from the validation dataset\n",
    "Y_pred = model.predict(test_wav)\n",
    "# Convert predictions classes to one hot vectors \n",
    "Y_pred_classes = np.argmax(Y_pred,axis = 1) \n",
    "# Convert validation observations to one hot vectors\n",
    "Y_true = np.argmax(test_label,axis = 1) \n",
    "\n",
    "# compute the confusion matrix\n",
    "confusion_mtx = confusion_matrix(Y_true, Y_pred_classes) \n",
    "plt.figure(figsize=(10,9))\n",
    "sns.heatmap(confusion_mtx, cmap='RdBu_r', annot=True,  center=0.0)\n",
    "plt.title(\"Confusion Matrix\",fontsize=14)\n",
    "plt.xlabel(\"Predicted Label\")\n",
    "plt.ylabel(\"True Label\")\n",
    "plt.show()"
   ]
  },
  {
   "cell_type": "code",
   "execution_count": 118,
   "metadata": {},
   "outputs": [
    {
     "data": {
      "text/plain": [
       "{'yes': 0,\n",
       " 'no': 1,\n",
       " 'up': 2,\n",
       " 'down': 3,\n",
       " 'left': 4,\n",
       " 'right': 5,\n",
       " 'on': 6,\n",
       " 'off': 7,\n",
       " 'stop': 8,\n",
       " 'go': 9,\n",
       " 'unknown': 10,\n",
       " 'silence': 11}"
      ]
     },
     "execution_count": 118,
     "metadata": {},
     "output_type": "execute_result"
    }
   ],
   "source": [
    "label_value"
   ]
  },
  {
   "cell_type": "markdown",
   "metadata": {},
   "source": [
    "<a id='ref' />"
   ]
  },
  {
   "cell_type": "markdown",
   "metadata": {},
   "source": [
    "# ref"
   ]
  },
  {
   "cell_type": "markdown",
   "metadata": {},
   "source": [
    "## old version"
   ]
  },
  {
   "cell_type": "code",
   "execution_count": 119,
   "metadata": {
    "_uuid": "c3ac90355cbf04993a8b090483164d0e86401855"
   },
   "outputs": [],
   "source": [
    "#Conv1D Model\n",
    "input_tensor = Input(shape=(input_shape))\n",
    "\n",
    "x = layers.Conv1D(8, 11, padding='valid', activation='relu', strides=1)(input_tensor)\n",
    "x = layers.MaxPooling1D(2)(x)\n",
    "x = layers.Dropout(drop_out_rate)(x)\n",
    "x = layers.Conv1D(16, 7, padding='valid', activation='relu', strides=1)(x)\n",
    "x = layers.MaxPooling1D(2)(x)\n",
    "x = layers.Dropout(drop_out_rate)(x)\n",
    "x = layers.Conv1D(32, 5, padding='valid', activation='relu', strides=1)(x)\n",
    "x = layers.MaxPooling1D(2)(x)\n",
    "x = layers.Dropout(drop_out_rate)(x)\n",
    "x = layers.Conv1D(64, 5, padding='valid', activation='relu', strides=1)(x)\n",
    "x = layers.MaxPooling1D(2)(x)\n",
    "x = layers.Dropout(drop_out_rate)(x)\n",
    "x = layers.Conv1D(128, 3, padding='valid', activation='relu', strides=1)(x)\n",
    "x = layers.MaxPooling1D(2)(x)\n",
    "x = layers.Flatten()(x)\n",
    "x = layers.Dense(256, activation='relu')(x)\n",
    "x = layers.Dropout(drop_out_rate)(x)\n",
    "x = layers.Dense(128, activation='relu')(x)\n",
    "x = layers.Dropout(drop_out_rate)(x)\n",
    "output_tensor = layers.Dense(len(label_value), activation='softmax')(x)\n",
    "\n",
    "model2 = tf.keras.Model(input_tensor, output_tensor)\n",
    "\n",
    "model2.compile(loss=keras.losses.categorical_crossentropy,\n",
    "             optimizer=keras.optimizers.Adam(lr = lr),\n",
    "             metrics=['accuracy'])\n"
   ]
  },
  {
   "cell_type": "code",
   "execution_count": 120,
   "metadata": {
    "_uuid": "0c1c50793d9d2c12af1cbf1029daca221afdaff9"
   },
   "outputs": [
    {
     "name": "stdout",
     "output_type": "stream",
     "text": [
      "Model: \"model_1\"\n",
      "_________________________________________________________________\n",
      "Layer (type)                 Output Shape              Param #   \n",
      "=================================================================\n",
      "input_2 (InputLayer)         [(None, 8000, 1)]         0         \n",
      "_________________________________________________________________\n",
      "conv1d_5 (Conv1D)            (None, 7990, 8)           96        \n",
      "_________________________________________________________________\n",
      "max_pooling1d_5 (MaxPooling1 (None, 3995, 8)           0         \n",
      "_________________________________________________________________\n",
      "dropout_6 (Dropout)          (None, 3995, 8)           0         \n",
      "_________________________________________________________________\n",
      "conv1d_6 (Conv1D)            (None, 3989, 16)          912       \n",
      "_________________________________________________________________\n",
      "max_pooling1d_6 (MaxPooling1 (None, 1994, 16)          0         \n",
      "_________________________________________________________________\n",
      "dropout_7 (Dropout)          (None, 1994, 16)          0         \n",
      "_________________________________________________________________\n",
      "conv1d_7 (Conv1D)            (None, 1990, 32)          2592      \n",
      "_________________________________________________________________\n",
      "max_pooling1d_7 (MaxPooling1 (None, 995, 32)           0         \n",
      "_________________________________________________________________\n",
      "dropout_8 (Dropout)          (None, 995, 32)           0         \n",
      "_________________________________________________________________\n",
      "conv1d_8 (Conv1D)            (None, 991, 64)           10304     \n",
      "_________________________________________________________________\n",
      "max_pooling1d_8 (MaxPooling1 (None, 495, 64)           0         \n",
      "_________________________________________________________________\n",
      "dropout_9 (Dropout)          (None, 495, 64)           0         \n",
      "_________________________________________________________________\n",
      "conv1d_9 (Conv1D)            (None, 493, 128)          24704     \n",
      "_________________________________________________________________\n",
      "max_pooling1d_9 (MaxPooling1 (None, 246, 128)          0         \n",
      "_________________________________________________________________\n",
      "flatten_1 (Flatten)          (None, 31488)             0         \n",
      "_________________________________________________________________\n",
      "dense_3 (Dense)              (None, 256)               8061184   \n",
      "_________________________________________________________________\n",
      "dropout_10 (Dropout)         (None, 256)               0         \n",
      "_________________________________________________________________\n",
      "dense_4 (Dense)              (None, 128)               32896     \n",
      "_________________________________________________________________\n",
      "dropout_11 (Dropout)         (None, 128)               0         \n",
      "_________________________________________________________________\n",
      "dense_5 (Dense)              (None, 12)                1548      \n",
      "=================================================================\n",
      "Total params: 8,134,236\n",
      "Trainable params: 8,134,236\n",
      "Non-trainable params: 0\n",
      "_________________________________________________________________\n"
     ]
    }
   ],
   "source": [
    "model2.summary()"
   ]
  },
  {
   "cell_type": "markdown",
   "metadata": {
    "_uuid": "45ce60c3949727441c5c75dabb3575cb95aa59be"
   },
   "source": [
    "### Train!"
   ]
  },
  {
   "cell_type": "code",
   "execution_count": 121,
   "metadata": {
    "_uuid": "9b61710f92afdf22a09a07b9dd9d3ddc3e75c05b",
    "scrolled": false
   },
   "outputs": [
    {
     "name": "stdout",
     "output_type": "stream",
     "text": [
      "Train on 40496 samples, validate on 10124 samples\n",
      "Epoch 1/10\n",
      "40496/40496 [==============================] - 236s 6ms/sample - loss: 2.3941 - accuracy: 0.1393 - val_loss: 2.3327 - val_accuracy: 0.1679\n",
      "Epoch 2/10\n",
      "40496/40496 [==============================] - 215s 5ms/sample - loss: 2.2315 - accuracy: 0.1998 - val_loss: 2.1892 - val_accuracy: 0.2364\n",
      "Epoch 3/10\n",
      "40496/40496 [==============================] - 211s 5ms/sample - loss: 2.0776 - accuracy: 0.2438 - val_loss: 2.0856 - val_accuracy: 0.2618\n",
      "Epoch 4/10\n",
      "40496/40496 [==============================] - 213s 5ms/sample - loss: 1.9206 - accuracy: 0.3001 - val_loss: 1.9288 - val_accuracy: 0.3107\n",
      "Epoch 5/10\n",
      "40496/40496 [==============================] - 213s 5ms/sample - loss: 1.7632 - accuracy: 0.3544 - val_loss: 1.8723 - val_accuracy: 0.3271\n",
      "Epoch 6/10\n",
      "40496/40496 [==============================] - 212s 5ms/sample - loss: 1.6677 - accuracy: 0.3857 - val_loss: 1.7568 - val_accuracy: 0.3799\n",
      "Epoch 7/10\n",
      "40496/40496 [==============================] - 210s 5ms/sample - loss: 1.6016 - accuracy: 0.4110 - val_loss: 1.7332 - val_accuracy: 0.3843\n",
      "Epoch 8/10\n",
      "40496/40496 [==============================] - 215s 5ms/sample - loss: 1.5372 - accuracy: 0.4356 - val_loss: 1.6557 - val_accuracy: 0.4245\n",
      "Epoch 9/10\n",
      "40496/40496 [==============================] - 220s 5ms/sample - loss: 1.4925 - accuracy: 0.4591 - val_loss: 1.5395 - val_accuracy: 0.4621\n",
      "Epoch 10/10\n",
      "40496/40496 [==============================] - 212s 5ms/sample - loss: 1.4368 - accuracy: 0.4816 - val_loss: 1.5336 - val_accuracy: 0.4705\n"
     ]
    }
   ],
   "source": [
    "history2 = model2.fit(train_wav, train_label, validation_data=[test_wav, test_label],\n",
    "          batch_size=batch_size, \n",
    "          epochs=10,\n",
    "          verbose=1)"
   ]
  },
  {
   "cell_type": "code",
   "execution_count": 122,
   "metadata": {},
   "outputs": [
    {
     "name": "stdout",
     "output_type": "stream",
     "text": [
      "Train on 40496 samples, validate on 10124 samples\n",
      "Epoch 1/20\n",
      "40496/40496 [==============================] - 225s 6ms/sample - loss: 1.3814 - accuracy: 0.5072 - val_loss: 1.4730 - val_accuracy: 0.4909\n",
      "Epoch 2/20\n",
      "40496/40496 [==============================] - 223s 5ms/sample - loss: 1.3227 - accuracy: 0.5329 - val_loss: 1.3853 - val_accuracy: 0.5393\n",
      "Epoch 3/20\n",
      "40496/40496 [==============================] - 221s 5ms/sample - loss: 1.2751 - accuracy: 0.5508 - val_loss: 1.3658 - val_accuracy: 0.5395\n",
      "Epoch 4/20\n",
      "40496/40496 [==============================] - 220s 5ms/sample - loss: 1.2306 - accuracy: 0.5685 - val_loss: 1.3464 - val_accuracy: 0.5571\n",
      "Epoch 5/20\n",
      "40496/40496 [==============================] - 210s 5ms/sample - loss: 1.1928 - accuracy: 0.5887 - val_loss: 1.3309 - val_accuracy: 0.5545\n",
      "Epoch 6/20\n",
      "40496/40496 [==============================] - 228s 6ms/sample - loss: 1.1626 - accuracy: 0.5982 - val_loss: 1.1872 - val_accuracy: 0.6097\n",
      "Epoch 7/20\n",
      "40496/40496 [==============================] - 233s 6ms/sample - loss: 1.1264 - accuracy: 0.6093 - val_loss: 1.2063 - val_accuracy: 0.5977\n",
      "Epoch 8/20\n",
      "40496/40496 [==============================] - 230s 6ms/sample - loss: 1.0959 - accuracy: 0.6217 - val_loss: 1.2426 - val_accuracy: 0.5824\n",
      "Epoch 9/20\n",
      "40496/40496 [==============================] - 222s 5ms/sample - loss: 1.0696 - accuracy: 0.6270 - val_loss: 1.1189 - val_accuracy: 0.6297\n",
      "Epoch 10/20\n",
      "40496/40496 [==============================] - 235s 6ms/sample - loss: 1.0446 - accuracy: 0.6400 - val_loss: 1.2409 - val_accuracy: 0.5754\n",
      "Epoch 11/20\n",
      "40496/40496 [==============================] - 225s 6ms/sample - loss: 1.0314 - accuracy: 0.6415 - val_loss: 1.1217 - val_accuracy: 0.6277\n",
      "Epoch 12/20\n",
      "40496/40496 [==============================] - 228s 6ms/sample - loss: 1.0005 - accuracy: 0.6548 - val_loss: 1.2267 - val_accuracy: 0.5981\n",
      "Epoch 13/20\n",
      "40496/40496 [==============================] - 221s 5ms/sample - loss: 0.9745 - accuracy: 0.6641 - val_loss: 1.3317 - val_accuracy: 0.5911\n",
      "Epoch 14/20\n",
      "40496/40496 [==============================] - 220s 5ms/sample - loss: 0.9630 - accuracy: 0.6687 - val_loss: 1.1881 - val_accuracy: 0.6292\n",
      "Epoch 15/20\n",
      "40496/40496 [==============================] - 222s 5ms/sample - loss: 0.9430 - accuracy: 0.6740 - val_loss: 1.1573 - val_accuracy: 0.6274\n",
      "Epoch 16/20\n",
      "40496/40496 [==============================] - 226s 6ms/sample - loss: 0.9295 - accuracy: 0.6803 - val_loss: 1.1171 - val_accuracy: 0.6334\n",
      "Epoch 17/20\n",
      "40496/40496 [==============================] - 222s 5ms/sample - loss: 0.9112 - accuracy: 0.6846 - val_loss: 1.0648 - val_accuracy: 0.6663\n",
      "Epoch 18/20\n",
      "40496/40496 [==============================] - 217s 5ms/sample - loss: 0.8930 - accuracy: 0.6932 - val_loss: 1.1340 - val_accuracy: 0.6429\n",
      "Epoch 19/20\n",
      "40496/40496 [==============================] - 218s 5ms/sample - loss: 0.8807 - accuracy: 0.6968 - val_loss: 1.2146 - val_accuracy: 0.6194\n",
      "Epoch 20/20\n",
      "40496/40496 [==============================] - 235s 6ms/sample - loss: 0.8626 - accuracy: 0.7022 - val_loss: 1.1282 - val_accuracy: 0.6494\n"
     ]
    }
   ],
   "source": [
    "history3 = model2.fit(train_wav, train_label, validation_data=[test_wav, test_label],\n",
    "          batch_size=batch_size, \n",
    "          epochs=20,\n",
    "          verbose=1)"
   ]
  },
  {
   "cell_type": "code",
   "execution_count": 133,
   "metadata": {
    "_uuid": "5cbb0f06ea603cb0e5ef7b9893080ecfdd082864"
   },
   "outputs": [
    {
     "data": {
      "image/png": "[encoded data removed]",
      "text/plain": [
       "<Figure size 432x288 with 1 Axes>"
      ]
     },
     "metadata": {
      "needs_background": "light"
     },
     "output_type": "display_data"
    },
    {
     "data": {
      "image/png": "[encoded data removed]",
      "text/plain": [
       "<Figure size 432x288 with 1 Axes>"
      ]
     },
     "metadata": {
      "needs_background": "light"
     },
     "output_type": "display_data"
    }
   ],
   "source": [
    "# summarize history for loss\n",
    "plt.plot(history2.history['loss']+history3.history['loss'])\n",
    "plt.plot(history2.history['val_loss']+history3.history['val_loss'])\n",
    "plt.title('model loss')\n",
    "plt.ylabel('loss')\n",
    "plt.xlabel('epoch')\n",
    "plt.legend(['train', 'test'], loc='upper left')\n",
    "plt.show()\n",
    "\n",
    "plt.plot(history2.history['accuracy']+history3.history['accuracy'])\n",
    "plt.plot(history2.history['val_accuracy']+history3.history['val_accuracy'])\n",
    "plt.title('model accuracy')\n",
    "plt.ylabel('accuracy')\n",
    "plt.xlabel('epoch')\n",
    "plt.legend(['train', 'test'], loc='upper left')\n",
    "plt.show()"
   ]
  },
  {
   "cell_type": "code",
   "execution_count": null,
   "metadata": {},
   "outputs": [],
   "source": []
  }
 ],
 "metadata": {
  "kernelspec": {
   "display_name": "Python 3",
   "language": "python",
   "name": "python3"
  },
  "language_info": {
   "codemirror_mode": {
    "name": "ipython",
    "version": 3
   },
   "file_extension": ".py",
   "mimetype": "text/x-python",
   "name": "python",
   "nbconvert_exporter": "python",
   "pygments_lexer": "ipython3",
   "version": "3.7.4"
  }
 },
 "nbformat": 4,
 "nbformat_minor": 1
}
